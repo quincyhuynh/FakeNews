{
 "cells": [
  {
   "cell_type": "code",
   "execution_count": 4,
   "metadata": {
    "collapsed": false
   },
   "outputs": [],
   "source": [
    "import numpy as np\n",
    "import pandas as pd\n",
    "import webhoseio\n",
    "from aylienapiclient import textapi\n",
    "import re\n",
    "from urllib.parse import urlparse"
   ]
  },
  {
   "cell_type": "code",
   "execution_count": 5,
   "metadata": {
    "collapsed": true
   },
   "outputs": [],
   "source": [
    "# Ashwin's key - we only get 1000 free requests a month, so be cautious with the number of times you perform queries\n",
    "webhoseio.config(token=\"456af32b-3c58-455d-b9f8-90875bfc8f58\") "
   ]
  },
  {
   "cell_type": "code",
   "execution_count": 6,
   "metadata": {
    "collapsed": true
   },
   "outputs": [],
   "source": [
    "client = textapi.Client(\"4657dfa6\", \"bbfd5faa23a1020d92e946dd83bce6b7\")"
   ]
  },
  {
   "cell_type": "code",
   "execution_count": 18,
   "metadata": {
    "collapsed": false
   },
   "outputs": [],
   "source": [
    "output_ex = webhoseio.query(\"filterWebData\", {\"q\":\"thread.title:(Uber isn't sure if it can 'remain a viable business' without building self-driving cars) site:businessinsider.com\"})"
   ]
  },
  {
   "cell_type": "code",
   "execution_count": 20,
   "metadata": {
    "collapsed": false
   },
   "outputs": [
    {
     "data": {
      "text/plain": [
       "{'moreResultsAvailable': 0,\n",
       " 'next': '/search?token=456af32b-3c58-455d-b9f8-90875bfc8f58&format=json&ts=1493425322135&q=thread.title%3A%28Uber+isn%27t+sure+if+it+can+%27remain+a+viable+business%27+without+building+self-driving+cars%29+site%3Abusinessinsider.com',\n",
       " 'posts': [],\n",
       " 'requestsLeft': 994,\n",
       " 'totalResults': 0}"
      ]
     },
     "execution_count": 20,
     "metadata": {},
     "output_type": "execute_result"
    }
   ],
   "source": [
    "output_ex"
   ]
  },
  {
   "cell_type": "markdown",
   "metadata": {},
   "source": [
    "## Get the title and site_url of an article given a url"
   ]
  },
  {
   "cell_type": "code",
   "execution_count": 7,
   "metadata": {
    "collapsed": true
   },
   "outputs": [],
   "source": [
    "def getTitleAndSiteUrl(url):\n",
    "    extract = client.Extract({\"url\": url, \"best_image\": False})\n",
    "    title = extract['title']\n",
    "    site_url = re.sub('www.', '', urlparse(url).hostname)\n",
    "    \n",
    "    return title, site_url"
   ]
  },
  {
   "cell_type": "markdown",
   "metadata": {},
   "source": [
    "## Create the dataframe with the 20 features that are in the Kaggle Data Set. Also create the function that will add rows to the dataframe"
   ]
  },
  {
   "cell_type": "code",
   "execution_count": 8,
   "metadata": {
    "collapsed": false
   },
   "outputs": [
    {
     "data": {
      "text/html": [
       "<div>\n",
       "<table border=\"1\" class=\"dataframe\">\n",
       "  <thead>\n",
       "    <tr style=\"text-align: right;\">\n",
       "      <th></th>\n",
       "      <th>uuid</th>\n",
       "      <th>ord_in_thread</th>\n",
       "      <th>author</th>\n",
       "      <th>published</th>\n",
       "      <th>title</th>\n",
       "      <th>text</th>\n",
       "      <th>language</th>\n",
       "      <th>crawled</th>\n",
       "      <th>site_url</th>\n",
       "      <th>country</th>\n",
       "      <th>domain_rank</th>\n",
       "      <th>thread_title</th>\n",
       "      <th>spam_score</th>\n",
       "      <th>main_img_url</th>\n",
       "      <th>replies_count</th>\n",
       "      <th>participants_count</th>\n",
       "      <th>likes</th>\n",
       "      <th>comments</th>\n",
       "      <th>shares</th>\n",
       "      <th>type</th>\n",
       "    </tr>\n",
       "  </thead>\n",
       "  <tbody>\n",
       "  </tbody>\n",
       "</table>\n",
       "</div>"
      ],
      "text/plain": [
       "Empty DataFrame\n",
       "Columns: [uuid, ord_in_thread, author, published, title, text, language, crawled, site_url, country, domain_rank, thread_title, spam_score, main_img_url, replies_count, participants_count, likes, comments, shares, type]\n",
       "Index: []"
      ]
     },
     "execution_count": 8,
     "metadata": {},
     "output_type": "execute_result"
    }
   ],
   "source": [
    "# all the columns from the Kaggle data set\n",
    "cols = [\"uuid\", \"ord_in_thread\", \"author\", \"published\", \"title\", \"text\", \"language\", \"crawled\", \"site_url\", \"country\", \"domain_rank\", \"thread_title\", \"spam_score\", \"main_img_url\", \"replies_count\", \"participants_count\", \"likes\", \"comments\", \"shares\", \"type\"]\n",
    "df = pd.DataFrame(columns = cols)\n",
    "df"
   ]
  },
  {
   "cell_type": "code",
   "execution_count": 16,
   "metadata": {
    "collapsed": true
   },
   "outputs": [],
   "source": [
    "def addRow(df, site_url, title):\n",
    "    output = webhoseio.query(\"filterWebData\", {\"q\":\"thread.title:(\" + title + \") site:\" + site_url})\n",
    "    post = output[\"posts\"]\n",
    "    print(output)\n",
    "    thread = post[\"thread\"]\n",
    "    social = thread[\"social\"][\"facebook\"]\n",
    "    \n",
    "    uuid = post[\"uuid\"]\n",
    "    ord_in_thread = post[\"ord_in_thread\"]\n",
    "    author = post[\"author\"]\n",
    "    published = post[\"published\"]\n",
    "    title = post[\"title\"]\n",
    "    text = post[\"text\"]\n",
    "    language = post[\"language\"]\n",
    "    crawled = post[\"crawled\"]\n",
    "    site_url = thread[\"site\"]\n",
    "    country = thread[\"country\"]\n",
    "    domain_rank = thread[\"domain_rank\"]\n",
    "    thread_title = thread[\"title\"]\n",
    "    spam_score = thread[\"spam_score\"]\n",
    "    img = thread[\"main_image\"]\n",
    "    replies = thread[\"replies_count\"]\n",
    "    participants = thread[\"participants_count\"]\n",
    "    likes = social[\"likes\"]\n",
    "    comments = social[\"comments\"]\n",
    "    shares = social[\"shares\"]\n",
    "    \n",
    "    #data = [[0, 0, 0, 0, 0, 0, 0, 0, 0, 0,0,0,0,0,0,0,0,0,0,0]]\n",
    "    data = [[uuid, ord_in_thread, author, published, title, text, language, crawled, site_url, country, domain_rank, thread_title, spam_score, img, replies, participants, likes, comments, shares, \"N/A\"]]\n",
    "    df_row = pd.DataFrame(data, columns=cols)\n",
    "    #print(df_row)\n",
    "    df = df.append(df_row, ignore_index=True)\n",
    "    return df"
   ]
  },
  {
   "cell_type": "code",
   "execution_count": 17,
   "metadata": {
    "collapsed": false
   },
   "outputs": [
    {
     "name": "stdout",
     "output_type": "stream",
     "text": [
      "Uber isn't sure if it can 'remain a viable business' without building self-driving cars\n",
      "businessinsider.com\n",
      "{'posts': [], 'totalResults': 0, 'moreResultsAvailable': 0, 'requestsLeft': 995, 'next': '/search?token=456af32b-3c58-455d-b9f8-90875bfc8f58&format=json&ts=1493412057401&q=thread.title%3A%28Uber+isn%27t+sure+if+it+can+%27remain+a+viable+business%27+without+building+self-driving+cars%29+site%3Abusinessinsider.com'}\n"
     ]
    },
    {
     "ename": "TypeError",
     "evalue": "list indices must be integers, not str",
     "output_type": "error",
     "traceback": [
      "\u001b[1;31m---------------------------------------------------------------------------\u001b[0m",
      "\u001b[1;31mTypeError\u001b[0m                                 Traceback (most recent call last)",
      "\u001b[1;32m<ipython-input-17-88778d2e97e3>\u001b[0m in \u001b[0;36m<module>\u001b[1;34m()\u001b[0m\n\u001b[0;32m      3\u001b[0m \u001b[0mprint\u001b[0m\u001b[1;33m(\u001b[0m\u001b[0msite_url\u001b[0m\u001b[1;33m)\u001b[0m\u001b[1;33m\u001b[0m\u001b[0m\n\u001b[0;32m      4\u001b[0m \u001b[1;33m\u001b[0m\u001b[0m\n\u001b[1;32m----> 5\u001b[1;33m \u001b[0mdf\u001b[0m \u001b[1;33m=\u001b[0m \u001b[0maddRow\u001b[0m\u001b[1;33m(\u001b[0m\u001b[0mdf\u001b[0m\u001b[1;33m,\u001b[0m \u001b[0msite_url\u001b[0m\u001b[1;33m,\u001b[0m \u001b[0mtitle\u001b[0m\u001b[1;33m)\u001b[0m\u001b[1;33m\u001b[0m\u001b[0m\n\u001b[0m\u001b[0;32m      6\u001b[0m \u001b[0mdf\u001b[0m\u001b[1;33m\u001b[0m\u001b[0m\n",
      "\u001b[1;32m<ipython-input-16-79154c172676>\u001b[0m in \u001b[0;36maddRow\u001b[1;34m(df, site_url, title)\u001b[0m\n\u001b[0;32m      3\u001b[0m     \u001b[0mpost\u001b[0m \u001b[1;33m=\u001b[0m \u001b[0moutput\u001b[0m\u001b[1;33m[\u001b[0m\u001b[1;34m\"posts\"\u001b[0m\u001b[1;33m]\u001b[0m\u001b[1;33m\u001b[0m\u001b[0m\n\u001b[0;32m      4\u001b[0m     \u001b[0mprint\u001b[0m\u001b[1;33m(\u001b[0m\u001b[0moutput\u001b[0m\u001b[1;33m)\u001b[0m\u001b[1;33m\u001b[0m\u001b[0m\n\u001b[1;32m----> 5\u001b[1;33m     \u001b[0mthread\u001b[0m \u001b[1;33m=\u001b[0m \u001b[0mpost\u001b[0m\u001b[1;33m[\u001b[0m\u001b[1;34m\"thread\"\u001b[0m\u001b[1;33m]\u001b[0m\u001b[1;33m\u001b[0m\u001b[0m\n\u001b[0m\u001b[0;32m      6\u001b[0m     \u001b[0msocial\u001b[0m \u001b[1;33m=\u001b[0m \u001b[0mthread\u001b[0m\u001b[1;33m[\u001b[0m\u001b[1;34m\"social\"\u001b[0m\u001b[1;33m]\u001b[0m\u001b[1;33m[\u001b[0m\u001b[1;34m\"facebook\"\u001b[0m\u001b[1;33m]\u001b[0m\u001b[1;33m\u001b[0m\u001b[0m\n\u001b[0;32m      7\u001b[0m \u001b[1;33m\u001b[0m\u001b[0m\n",
      "\u001b[1;31mTypeError\u001b[0m: list indices must be integers, not str"
     ]
    }
   ],
   "source": [
    "title, site_url = getTitleAndSiteUrl(\"http://www.businessinsider.com/uber-questions-future-of-being-a-viable-business-without-self-driving-cars-2017-4\")\n",
    "print(title)\n",
    "print(site_url)\n",
    "\n",
    "df = addRow(df, site_url, title)\n",
    "df"
   ]
  },
  {
   "cell_type": "code",
   "execution_count": null,
   "metadata": {
    "collapsed": true
   },
   "outputs": [],
   "source": []
  }
 ],
 "metadata": {
  "kernelspec": {
   "display_name": "Python 3",
   "language": "python",
   "name": "python3"
  },
  "language_info": {
   "codemirror_mode": {
    "name": "ipython",
    "version": 3
   },
   "file_extension": ".py",
   "mimetype": "text/x-python",
   "name": "python",
   "nbconvert_exporter": "python",
   "pygments_lexer": "ipython3",
   "version": "3.4.5"
  }
 },
 "nbformat": 4,
 "nbformat_minor": 0
}
