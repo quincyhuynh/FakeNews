{
 "cells": [
  {
   "cell_type": "code",
   "execution_count": 19,
   "metadata": {
    "collapsed": true
   },
   "outputs": [],
   "source": [
    "import numpy as np\n",
    "import pandas as pd\n",
    "import webhoseio\n",
    "from aylienapiclient import textapi\n",
    "import re\n",
    "from urlparse import urlparse"
   ]
  },
  {
   "cell_type": "code",
   "execution_count": 2,
   "metadata": {
    "collapsed": true
   },
   "outputs": [],
   "source": [
    "# Ashwin's key - we only get 1000 free requests a month, so be cautious with the number of times you perform queries\n",
    "webhoseio.config(token=\"456af32b-3c58-455d-b9f8-90875bfc8f58\") "
   ]
  },
  {
   "cell_type": "code",
   "execution_count": 16,
   "metadata": {
    "collapsed": true
   },
   "outputs": [],
   "source": [
    "client = textapi.Client(\"4657dfa6\", \"bbfd5faa23a1020d92e946dd83bce6b7\")"
   ]
  },
  {
   "cell_type": "code",
   "execution_count": 22,
   "metadata": {
    "collapsed": false
   },
   "outputs": [],
   "source": [
    "output_ex = webhoseio.query(\"filterWebData\", {\"q\":\"thread.title:(Uber isn't sure if it can 'remain a viable business' without building self-driving cars) site:businessinsider.com\"})"
   ]
  },
  {
   "cell_type": "markdown",
   "metadata": {},
   "source": [
    "## Get the title and site_url of an article given a url"
   ]
  },
  {
   "cell_type": "code",
   "execution_count": 17,
   "metadata": {
    "collapsed": true
   },
   "outputs": [],
   "source": [
    "def getTitleAndSiteUrl(url):\n",
    "    extract = client.Extract({\"url\": url, \"best_image\": False})\n",
    "    title = extract['title']\n",
    "    site_url = re.sub('www.', '', urlparse(url).hostname)\n",
    "    \n",
    "    return title, site_url"
   ]
  },
  {
   "cell_type": "markdown",
   "metadata": {},
   "source": [
    "## Create the dataframe with the 20 features that are in the Kaggle Data Set. Also create the function that will add rows to the dataframe"
   ]
  },
  {
   "cell_type": "code",
   "execution_count": 14,
   "metadata": {
    "collapsed": false
   },
   "outputs": [
    {
     "data": {
      "text/html": [
       "<div>\n",
       "<table border=\"1\" class=\"dataframe\">\n",
       "  <thead>\n",
       "    <tr style=\"text-align: right;\">\n",
       "      <th></th>\n",
       "      <th>uuid</th>\n",
       "      <th>ord_in_thread</th>\n",
       "      <th>author</th>\n",
       "      <th>published</th>\n",
       "      <th>title</th>\n",
       "      <th>text</th>\n",
       "      <th>language</th>\n",
       "      <th>crawled</th>\n",
       "      <th>site_url</th>\n",
       "      <th>country</th>\n",
       "      <th>domain_rank</th>\n",
       "      <th>thread_title</th>\n",
       "      <th>spam_score</th>\n",
       "      <th>main_img_url</th>\n",
       "      <th>replies_count</th>\n",
       "      <th>participants_count</th>\n",
       "      <th>likes</th>\n",
       "      <th>comments</th>\n",
       "      <th>shares</th>\n",
       "      <th>type</th>\n",
       "    </tr>\n",
       "  </thead>\n",
       "  <tbody>\n",
       "  </tbody>\n",
       "</table>\n",
       "</div>"
      ],
      "text/plain": [
       "Empty DataFrame\n",
       "Columns: [uuid, ord_in_thread, author, published, title, text, language, crawled, site_url, country, domain_rank, thread_title, spam_score, main_img_url, replies_count, participants_count, likes, comments, shares, type]\n",
       "Index: []"
      ]
     },
     "execution_count": 14,
     "metadata": {},
     "output_type": "execute_result"
    }
   ],
   "source": [
    "# all the columns from the Kaggle data set\n",
    "cols = [\"uuid\", \"ord_in_thread\", \"author\", \"published\", \"title\", \"text\", \"language\", \"crawled\", \"site_url\", \"country\", \"domain_rank\", \"thread_title\", \"spam_score\", \"main_img_url\", \"replies_count\", \"participants_count\", \"likes\", \"comments\", \"shares\", \"type\"]\n",
    "df = pd.DataFrame(columns = cols)\n",
    "df"
   ]
  },
  {
   "cell_type": "code",
   "execution_count": 10,
   "metadata": {
    "collapsed": true
   },
   "outputs": [],
   "source": [
    "def addRow(df, site_url, title):\n",
    "    output = webhoseio.query(\"filterWebData\", {\"q\":\"thread.title:(\" + title + \") site:\" + site_url})\n",
    "    post = output[\"posts\"][0]\n",
    "    \n",
    "    thread = post[\"thread\"]\n",
    "    social = thread[\"social\"][\"facebook\"]\n",
    "    \n",
    "    uuid = post[\"uuid\"]\n",
    "    ord_in_thread = post[\"ord_in_thread\"]\n",
    "    author = post[\"author\"]\n",
    "    published = post[\"published\"]\n",
    "    title = post[\"title\"]\n",
    "    text = post[\"text\"]\n",
    "    language = post[\"language\"]\n",
    "    crawled = post[\"crawled\"]\n",
    "    site_url = thread[\"site\"]\n",
    "    country = thread[\"country\"]\n",
    "    domain_rank = thread[\"domain_rank\"]\n",
    "    thread_title = thread[\"title\"]\n",
    "    spam_score = thread[\"spam_score\"]\n",
    "    img = thread[\"main_image\"]\n",
    "    replies = thread[\"replies_count\"]\n",
    "    participants = thread[\"participants_count\"]\n",
    "    likes = social[\"likes\"]\n",
    "    comments = social[\"comments\"]\n",
    "    shares = social[\"shares\"]\n",
    "    \n",
    "    #data = [[0, 0, 0, 0, 0, 0, 0, 0, 0, 0,0,0,0,0,0,0,0,0,0,0]]\n",
    "    data = [[uuid, ord_in_thread, author, published, title, text, language, crawled, site_url, country, domain_rank, thread_title, spam_score, img, replies, participants, likes, comments, shares, \"N/A\"]]\n",
    "    df_row = pd.DataFrame(data, columns=cols)\n",
    "    #print(df_row)\n",
    "    df = df.append(df_row, ignore_index=True)\n",
    "    return df"
   ]
  },
  {
   "cell_type": "code",
   "execution_count": 21,
   "metadata": {
    "collapsed": false
   },
   "outputs": [
    {
     "name": "stdout",
     "output_type": "stream",
     "text": [
      "Uber isn't sure if it can 'remain a viable business' without building self-driving cars\n",
      "businessinsider.com\n"
     ]
    },
    {
     "data": {
      "text/html": [
       "<div>\n",
       "<table border=\"1\" class=\"dataframe\">\n",
       "  <thead>\n",
       "    <tr style=\"text-align: right;\">\n",
       "      <th></th>\n",
       "      <th>uuid</th>\n",
       "      <th>ord_in_thread</th>\n",
       "      <th>author</th>\n",
       "      <th>published</th>\n",
       "      <th>title</th>\n",
       "      <th>text</th>\n",
       "      <th>language</th>\n",
       "      <th>crawled</th>\n",
       "      <th>site_url</th>\n",
       "      <th>country</th>\n",
       "      <th>domain_rank</th>\n",
       "      <th>thread_title</th>\n",
       "      <th>spam_score</th>\n",
       "      <th>main_img_url</th>\n",
       "      <th>replies_count</th>\n",
       "      <th>participants_count</th>\n",
       "      <th>likes</th>\n",
       "      <th>comments</th>\n",
       "      <th>shares</th>\n",
       "      <th>type</th>\n",
       "    </tr>\n",
       "  </thead>\n",
       "  <tbody>\n",
       "    <tr>\n",
       "      <th>0</th>\n",
       "      <td>b046f9bc0e5160022bf7b5b1836e2aa9b3671db5</td>\n",
       "      <td>0.0</td>\n",
       "      <td>Biz Carson</td>\n",
       "      <td>2017-04-08T15:11:24.611+03:00</td>\n",
       "      <td>Uber isn't sure if it can 'remain a viable bus...</td>\n",
       "      <td>print \\nUber CEO Travis Kalanick Reuters Staff...</td>\n",
       "      <td>english</td>\n",
       "      <td>2017-04-08T15:11:24.611+03:00</td>\n",
       "      <td>businessinsider.com</td>\n",
       "      <td>US</td>\n",
       "      <td>283.0</td>\n",
       "      <td>Uber isn't sure if it can 'remain a viable bus...</td>\n",
       "      <td>0.0</td>\n",
       "      <td>http://static1.businessinsider.com/image/58e82...</td>\n",
       "      <td>0.0</td>\n",
       "      <td>1.0</td>\n",
       "      <td>0.0</td>\n",
       "      <td>0.0</td>\n",
       "      <td>0.0</td>\n",
       "      <td>N/A</td>\n",
       "    </tr>\n",
       "  </tbody>\n",
       "</table>\n",
       "</div>"
      ],
      "text/plain": [
       "                                       uuid  ord_in_thread      author  \\\n",
       "0  b046f9bc0e5160022bf7b5b1836e2aa9b3671db5            0.0  Biz Carson   \n",
       "\n",
       "                       published  \\\n",
       "0  2017-04-08T15:11:24.611+03:00   \n",
       "\n",
       "                                               title  \\\n",
       "0  Uber isn't sure if it can 'remain a viable bus...   \n",
       "\n",
       "                                                text language  \\\n",
       "0  print \\nUber CEO Travis Kalanick Reuters Staff...  english   \n",
       "\n",
       "                         crawled             site_url country  domain_rank  \\\n",
       "0  2017-04-08T15:11:24.611+03:00  businessinsider.com      US        283.0   \n",
       "\n",
       "                                        thread_title  spam_score  \\\n",
       "0  Uber isn't sure if it can 'remain a viable bus...         0.0   \n",
       "\n",
       "                                        main_img_url  replies_count  \\\n",
       "0  http://static1.businessinsider.com/image/58e82...            0.0   \n",
       "\n",
       "   participants_count  likes  comments  shares type  \n",
       "0                 1.0    0.0       0.0     0.0  N/A  "
      ]
     },
     "execution_count": 21,
     "metadata": {},
     "output_type": "execute_result"
    }
   ],
   "source": [
    "title, site_url = getTitleAndSiteUrl(\"http://www.businessinsider.com/uber-questions-future-of-being-a-viable-business-without-self-driving-cars-2017-4\")\n",
    "print(title)\n",
    "print(site_url)\n",
    "\n",
    "df = addRow(df, site_url, title)\n",
    "df"
   ]
  },
  {
   "cell_type": "code",
   "execution_count": null,
   "metadata": {
    "collapsed": true
   },
   "outputs": [],
   "source": []
  }
 ],
 "metadata": {
  "kernelspec": {
   "display_name": "Python [Root]",
   "language": "python",
   "name": "Python [Root]"
  },
  "language_info": {
   "codemirror_mode": {
    "name": "ipython",
    "version": 2
   },
   "file_extension": ".py",
   "mimetype": "text/x-python",
   "name": "python",
   "nbconvert_exporter": "python",
   "pygments_lexer": "ipython2",
   "version": "2.7.12"
  }
 },
 "nbformat": 4,
 "nbformat_minor": 0
}
