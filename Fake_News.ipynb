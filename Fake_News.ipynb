{
 "cells": [
  {
   "cell_type": "code",
   "execution_count": 53,
   "metadata": {
    "collapsed": true
   },
   "outputs": [],
   "source": [
    "#importing libraries\n",
    "import pandas as pd\n",
    "import numpy as np\n",
    "import nltk\n",
    "from nltk.tokenize import sent_tokenize\n",
    "import re\n",
    "from nltk.stem import PorterStemmer\n",
    "from nltk.tag import pos_tag\n",
    "from nltk.corpus import stopwords\n",
    "from nltk.corpus import wordnet\n",
    "from nltk.stem import WordNetLemmatizer\n",
    "from sklearn.feature_extraction.text import CountVectorizer\n",
    "from sklearn import linear_model\n",
    "from sklearn.ensemble import RandomForestClassifier\n",
    "from sklearn.preprocessing import LabelEncoder\n",
    "from sklearn import metrics"
   ]
  },
  {
   "cell_type": "code",
   "execution_count": 2,
   "metadata": {
    "collapsed": false
   },
   "outputs": [],
   "source": [
    "def title_cleaner(title):\n",
    "    title = re.sub('[^a-zA-Z]',' ', title)\n",
    "    title = title.lower()\n",
    "    title = nltk.word_tokenize(title) \n",
    "    eng_stopwords = set(stopwords.words(\"english\"))\n",
    "    title = [w for w in title if not w in eng_stopwords]\n",
    "    title = ' '.join([word for word in title])\n",
    "    return(title)\n",
    "\n",
    "wnl = WordNetLemmatizer()\n",
    "def get_wordnet_pos(treebank_tag):\n",
    "    '''Treebank to wordnet POS tag'''\n",
    "    if treebank_tag.startswith('J'):\n",
    "        return wordnet.ADJ\n",
    "    elif treebank_tag.startswith('V'):\n",
    "        return wordnet.VERB\n",
    "    elif treebank_tag.startswith('N'):\n",
    "        return wordnet.NOUN\n",
    "    elif treebank_tag.startswith('R'):\n",
    "        return wordnet.ADV\n",
    "    else:\n",
    "        return 'n' #basecase POS"
   ]
  },
  {
   "cell_type": "code",
   "execution_count": 10,
   "metadata": {
    "collapsed": false
   },
   "outputs": [],
   "source": [
    "#reading the file\n",
    "data = pd.read_csv('fake.csv')"
   ]
  },
  {
   "cell_type": "code",
   "execution_count": 11,
   "metadata": {
    "collapsed": false
   },
   "outputs": [],
   "source": [
    "del data['uuid']"
   ]
  },
  {
   "cell_type": "code",
   "execution_count": 12,
   "metadata": {
    "collapsed": false
   },
   "outputs": [],
   "source": [
    "data = data.dropna().reset_index()"
   ]
  },
  {
   "cell_type": "code",
   "execution_count": 13,
   "metadata": {
    "collapsed": false
   },
   "outputs": [],
   "source": [
    "del data['index']"
   ]
  },
  {
   "cell_type": "code",
   "execution_count": 14,
   "metadata": {
    "collapsed": false
   },
   "outputs": [
    {
     "name": "stdout",
     "output_type": "stream",
     "text": [
      "Number of not spam news:  4656\n",
      "Number of spam news: : 46\n",
      "Percentage of spam vs ham: 0.9879725085910653\n"
     ]
    }
   ],
   "source": [
    "positive = data[data['spam_score'] < 0.5]\n",
    "negative = data[data['spam_score'] >= 0.5]\n",
    "no_of_positive = len(positive)\n",
    "no_of_negative = len(negative)\n",
    "print (\"Number of not spam news: \", no_of_positive)\n",
    "print (\"Number of spam news: :\", no_of_negative)\n",
    "print (\"Percentage of spam vs ham:\" ,no_of_negative*100/no_of_positive)"
   ]
  },
  {
   "cell_type": "code",
   "execution_count": 15,
   "metadata": {
    "collapsed": false
   },
   "outputs": [],
   "source": [
    "result = [0 if val < 0.5 else 1 for val in data['spam_score']]"
   ]
  },
  {
   "cell_type": "code",
   "execution_count": 16,
   "metadata": {
    "collapsed": false
   },
   "outputs": [
    {
     "name": "stdout",
     "output_type": "stream",
     "text": [
      "The average length of all the reviews:  277.0\n"
     ]
    }
   ],
   "source": [
    "len_of_reviews = np.array([])\n",
    "for val in data['title']:\n",
    "    temp = len(val)\n",
    "    len_of_reviews = np.append(len_of_reviews,temp)\n",
    "\n",
    "print (\"The average length of all the reviews: \",len_of_reviews.max())"
   ]
  },
  {
   "cell_type": "code",
   "execution_count": 17,
   "metadata": {
    "collapsed": false
   },
   "outputs": [
    {
     "name": "stdout",
     "output_type": "stream",
     "text": [
      "Done with 500 title for title_clean_original\n",
      "Done with 1000 title for title_clean_original\n",
      "Done with 1500 title for title_clean_original\n",
      "Done with 2000 title for title_clean_original\n",
      "Done with 2500 title for title_clean_original\n",
      "Done with 3000 title for title_clean_original\n",
      "Done with 3500 title for title_clean_original\n",
      "Done with 4000 title for title_clean_original\n",
      "Done with 4500 title for title_clean_original\n",
      "Done with 500 title for title_clean_original\n",
      "Done with 1000 title for title_clean_original\n",
      "Done with 1500 title for title_clean_original\n",
      "Done with 2000 title for title_clean_original\n",
      "Done with 2500 title for title_clean_original\n",
      "Done with 3000 title for title_clean_original\n",
      "Done with 3500 title for title_clean_original\n",
      "Done with 4000 title for title_clean_original\n",
      "Done with 4500 title for title_clean_original\n"
     ]
    }
   ],
   "source": [
    "num_title = len(data['title'])\n",
    "title_clean_original = []\n",
    "for i in range(0,num_title - 1):\n",
    "    if( (i+1)%500 == 0 ):\n",
    "         # print progress\n",
    "        print(\"Done with %d title for title_clean_original\" %(i+1)) \n",
    "    title_clean_original.append(title_cleaner(data['title'][i]))\n",
    "    \n",
    "num_text = len(data['text'])\n",
    "text_clean_original = []\n",
    "for i in range(0,num_text - 1):\n",
    "    if( (i+1)%500 == 0 ):\n",
    "         # print progress\n",
    "        print(\"Done with %d title for title_clean_original\" %(i+1)) \n",
    "    text_clean_original.append(title_cleaner(data['text'][i]))\n",
    "        "
   ]
  },
  {
   "cell_type": "code",
   "execution_count": 18,
   "metadata": {
    "collapsed": false
   },
   "outputs": [],
   "source": [
    "title_clean_wnl = []\n",
    "for val in title_clean_original:\n",
    "    l = pos_tag(val.split())\n",
    "    temp = ' '.join([wnl.lemmatize(w,pos=get_wordnet_pos(t)) for w,t in l])\n",
    "    title_clean_wnl.append(temp)\n",
    "    \n",
    "text_clean_wnl = []\n",
    "for val in text_clean_original:\n",
    "    l = pos_tag(val.split())\n",
    "    temp = ' '.join([wnl.lemmatize(w,pos=get_wordnet_pos(t)) for w,t in l])\n",
    "    text_clean_wnl.append(temp)"
   ]
  },
  {
   "cell_type": "code",
   "execution_count": 19,
   "metadata": {
    "collapsed": false
   },
   "outputs": [],
   "source": [
    "vectorizer = CountVectorizer(analyzer = \"word\",   \\\n",
    "                                 tokenizer = None,    \\\n",
    "                                 preprocessor = None, \\\n",
    "                                 stop_words = None,   \\\n",
    "                                 max_features = 277) "
   ]
  },
  {
   "cell_type": "code",
   "execution_count": 21,
   "metadata": {
    "collapsed": false
   },
   "outputs": [],
   "source": [
    "df = pd.DataFrame(vectorizer.fit_transform(data['title']).toarray())\n",
    "df1 = pd.DataFrame(vectorizer.fit_transform(data['title']).toarray())"
   ]
  },
  {
   "cell_type": "code",
   "execution_count": 22,
   "metadata": {
    "collapsed": false
   },
   "outputs": [],
   "source": [
    "train_data = pd.concat([data,df,df1], axis = 1)"
   ]
  },
  {
   "cell_type": "code",
   "execution_count": 23,
   "metadata": {
    "collapsed": false
   },
   "outputs": [],
   "source": [
    "del train_data['title']"
   ]
  },
  {
   "cell_type": "code",
   "execution_count": 24,
   "metadata": {
    "collapsed": false
   },
   "outputs": [],
   "source": [
    "del train_data['thread_title']"
   ]
  },
  {
   "cell_type": "code",
   "execution_count": 25,
   "metadata": {
    "collapsed": true
   },
   "outputs": [],
   "source": [
    "del train_data['text']"
   ]
  },
  {
   "cell_type": "code",
   "execution_count": 26,
   "metadata": {
    "collapsed": true
   },
   "outputs": [],
   "source": [
    "del train_data['type']\n",
    "del train_data['spam_score']"
   ]
  },
  {
   "cell_type": "code",
   "execution_count": 27,
   "metadata": {
    "collapsed": true
   },
   "outputs": [],
   "source": [
    "del train_data['main_img_url']"
   ]
  },
  {
   "cell_type": "code",
   "execution_count": 28,
   "metadata": {
    "collapsed": true
   },
   "outputs": [],
   "source": [
    "del train_data['published']\n",
    "del train_data['crawled']"
   ]
  },
  {
   "cell_type": "code",
   "execution_count": 47,
   "metadata": {
    "collapsed": false
   },
   "outputs": [],
   "source": [
    "l = ['country','site_url','author','language']\n",
    "le=LabelEncoder()\n",
    "for col in l:\n",
    "    le.fit(train_data[col])\n",
    "    train_data[col]=le.transform(train_data[col])"
   ]
  },
  {
   "cell_type": "code",
   "execution_count": 48,
   "metadata": {
    "collapsed": false
   },
   "outputs": [],
   "source": [
    "y_train = result"
   ]
  },
  {
   "cell_type": "code",
   "execution_count": 50,
   "metadata": {
    "collapsed": false
   },
   "outputs": [],
   "source": [
    "forest = RandomForestClassifier(n_estimators = 50) \n",
    "forest = forest.fit(train_data, y_train)"
   ]
  },
  {
   "cell_type": "code",
   "execution_count": 54,
   "metadata": {
    "collapsed": false
   },
   "outputs": [
    {
     "data": {
      "text/plain": [
       "1.0"
      ]
     },
     "execution_count": 54,
     "metadata": {},
     "output_type": "execute_result"
    }
   ],
   "source": [
    "prediction = forest.predict(train_data)\n",
    "accuracy  = metrics.accuracy_score(y_train,prediction)\n",
    "accuracy"
   ]
  },
  {
   "cell_type": "code",
   "execution_count": null,
   "metadata": {
    "collapsed": true
   },
   "outputs": [],
   "source": []
  }
 ],
 "metadata": {
  "anaconda-cloud": {},
  "kernelspec": {
   "display_name": "Python 3",
   "language": "python",
   "name": "python3"
  },
  "language_info": {
   "codemirror_mode": {
    "name": "ipython",
    "version": 3
   },
   "file_extension": ".py",
   "mimetype": "text/x-python",
   "name": "python",
   "nbconvert_exporter": "python",
   "pygments_lexer": "ipython3",
   "version": "3.5.2"
  }
 },
 "nbformat": 4,
 "nbformat_minor": 1
}
