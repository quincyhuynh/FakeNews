{
 "cells": [
  {
   "cell_type": "code",
   "execution_count": 119,
   "metadata": {
    "collapsed": false
   },
   "outputs": [],
   "source": [
    "import pandas as pd\n",
    "import numpy as np\n",
    "import nltk\n",
    "from nltk.tokenize import sent_tokenize\n",
    "import re\n",
    "from nltk.stem import PorterStemmer\n",
    "from nltk.tag import pos_tag\n",
    "from nltk.corpus import stopwords\n",
    "from nltk.corpus import wordnet\n",
    "from nltk.stem import WordNetLemmatizer\n",
    "from sklearn.feature_extraction.text import CountVectorizer\n",
    "from sklearn import linear_model\n",
    "from sklearn.ensemble import RandomForestClassifier\n",
    "from sklearn.preprocessing import LabelEncoder\n",
    "from sklearn import metrics\n",
    "from sklearn.cross_validation import train_test_split\n",
    "from sklearn import linear_model, datasets\n",
    "from sklearn.externals import joblib\n",
    "from flask import Flask, request, jsonify\n",
    "from clean_article import *\n",
    "import webhoseio\n",
    "\n",
    "wnl = WordNetLemmatizer()\n",
    "cols = [\"uuid\", \"ord_in_thread\", \"author\", \"published\", \"title\", \"text\", \"language\", \"crawled\", \"site_url\", \"country\", \"domain_rank\", \"thread_title\", \"spam_score\", \"main_img_url\", \"replies_count\", \"participants_count\", \"likes\", \"comments\", \"shares\", \"type\"]"
   ]
  },
  {
   "cell_type": "code",
   "execution_count": 120,
   "metadata": {
    "collapsed": true
   },
   "outputs": [],
   "source": [
    "def title_cleaner(title):\n",
    "    title = re.sub('[^a-zA-Z]',' ', title)\n",
    "    title = title.lower()\n",
    "    title = nltk.word_tokenize(title) \n",
    "    eng_stopwords = set(stopwords.words(\"english\"))\n",
    "    title = [w for w in title if not w in eng_stopwords]\n",
    "    title = ' '.join([word for word in title])\n",
    "    return(title)\n",
    "\n",
    "def get_wordnet_pos(treebank_tag):\n",
    "    '''Treebank to wordnet POS tag'''\n",
    "    if treebank_tag.startswith('J'):\n",
    "        return wordnet.ADJ\n",
    "    elif treebank_tag.startswith('V'):\n",
    "        return wordnet.VERB\n",
    "    elif treebank_tag.startswith('N'):\n",
    "        return wordnet.NOUN\n",
    "    elif treebank_tag.startswith('R'):\n",
    "        return wordnet.ADV\n",
    "    else:\n",
    "        return 'n' #basecase POS"
   ]
  },
  {
   "cell_type": "code",
   "execution_count": 135,
   "metadata": {
    "collapsed": false
   },
   "outputs": [
    {
     "data": {
      "text/html": [
       "<div>\n",
       "<table border=\"1\" class=\"dataframe\">\n",
       "  <thead>\n",
       "    <tr style=\"text-align: right;\">\n",
       "      <th></th>\n",
       "      <th>ord_in_thread</th>\n",
       "      <th>author</th>\n",
       "      <th>published</th>\n",
       "      <th>title</th>\n",
       "      <th>text</th>\n",
       "      <th>language</th>\n",
       "      <th>crawled</th>\n",
       "      <th>site_url</th>\n",
       "      <th>country</th>\n",
       "      <th>domain_rank</th>\n",
       "      <th>thread_title</th>\n",
       "      <th>spam_score</th>\n",
       "      <th>main_img_url</th>\n",
       "      <th>replies_count</th>\n",
       "      <th>participants_count</th>\n",
       "      <th>likes</th>\n",
       "      <th>comments</th>\n",
       "      <th>shares</th>\n",
       "    </tr>\n",
       "  </thead>\n",
       "  <tbody>\n",
       "    <tr>\n",
       "      <th>0</th>\n",
       "      <td>0.0</td>\n",
       "      <td>tokyowashi (noreply@blogger.com)</td>\n",
       "      <td>2017-03-29T04:06:34.546+03:00</td>\n",
       "      <td>Russia and China Catch Security Council in a D...</td>\n",
       "      <td>Source: Russia Insider \\r\\n\\r\\nMarch 25, 2017 ...</td>\n",
       "      <td>english</td>\n",
       "      <td>2017-03-29T04:06:34.546+03:00</td>\n",
       "      <td>abeldanger.net</td>\n",
       "      <td>US</td>\n",
       "      <td>0.0</td>\n",
       "      <td>Russia and China Catch Security Council in a D...</td>\n",
       "      <td>0.0</td>\n",
       "      <td>0</td>\n",
       "      <td>2.0</td>\n",
       "      <td>1.0</td>\n",
       "      <td>0.0</td>\n",
       "      <td>0.0</td>\n",
       "      <td>0.0</td>\n",
       "    </tr>\n",
       "  </tbody>\n",
       "</table>\n",
       "</div>"
      ],
      "text/plain": [
       "   ord_in_thread                            author  \\\n",
       "0            0.0  tokyowashi (noreply@blogger.com)   \n",
       "\n",
       "                       published  \\\n",
       "0  2017-03-29T04:06:34.546+03:00   \n",
       "\n",
       "                                               title  \\\n",
       "0  Russia and China Catch Security Council in a D...   \n",
       "\n",
       "                                                text language  \\\n",
       "0  Source: Russia Insider \\r\\n\\r\\nMarch 25, 2017 ...  english   \n",
       "\n",
       "                         crawled        site_url country  domain_rank  \\\n",
       "0  2017-03-29T04:06:34.546+03:00  abeldanger.net      US          0.0   \n",
       "\n",
       "                                        thread_title  spam_score  \\\n",
       "0  Russia and China Catch Security Council in a D...         0.0   \n",
       "\n",
       "   main_img_url  replies_count  participants_count  likes  comments  shares  \n",
       "0             0            2.0                 1.0    0.0       0.0     0.0  "
      ]
     },
     "execution_count": 135,
     "metadata": {},
     "output_type": "execute_result"
    }
   ],
   "source": [
    "test_data = pd.read_table('Data_3-31.csv')\n",
    "test_data = test_data[cols][2:3]\n",
    "del test_data['uuid']\n",
    "test_data = test_data.reset_index()\n",
    "del test_data['index']\n",
    "del test_data['type']\n",
    "test_data['title'].fillna('', inplace=True)\n",
    "test_data.fillna(0, inplace=True)\n",
    "title = title_cleaner(test_data['title'][0])\n",
    "text = title_cleaner(test_data['text'][0])\n",
    "# print(title, text)\n",
    "test_data"
   ]
  },
  {
   "cell_type": "code",
   "execution_count": 136,
   "metadata": {
    "collapsed": false
   },
   "outputs": [],
   "source": [
    "title_tag = pos_tag(title.split())\n",
    "title_clean_wnl = ' '.join([wnl.lemmatize(w,pos=get_wordnet_pos(t)) for w,t in title_tag])\n",
    "text_tag = pos_tag(text.split())\n",
    "text_clean_wnl = ' '.join([wnl.lemmatize(w,pos=get_wordnet_pos(t)) for w,t in text_tag])"
   ]
  },
  {
   "cell_type": "code",
   "execution_count": 137,
   "metadata": {
    "collapsed": true
   },
   "outputs": [],
   "source": [
    "title_vectorizer = CountVectorizer(analyzer = \"word\",   \\\n",
    "                                 tokenizer = None,    \\\n",
    "                                 preprocessor = None, \\\n",
    "                                 stop_words = None,   \\\n",
    "                                 max_features = 5) \n",
    "\n",
    "text_vectorizer = CountVectorizer(analyzer = \"word\",   \\\n",
    "                                 tokenizer = None,    \\\n",
    "                                 preprocessor = None, \\\n",
    "                                 stop_words = None,   \\\n",
    "                                 max_features = 50) "
   ]
  },
  {
   "cell_type": "code",
   "execution_count": 138,
   "metadata": {
    "collapsed": false
   },
   "outputs": [],
   "source": [
    "title_df = pd.DataFrame(title_vectorizer.fit_transform(np.array([title_clean_wnl])).toarray())\n",
    "text_df = pd.DataFrame(text_vectorizer.fit_transform(np.array([text_clean_wnl])).toarray())\n",
    "test_one = pd.concat([test_data, title_df, text_df], axis = 1)\n",
    "\n",
    "del test_one['title']\n",
    "del test_one['thread_title']\n",
    "del test_one['text']\n",
    "del test_one['spam_score']\n",
    "del test_one['main_img_url']\n",
    "del test_one['published']\n",
    "del test_one['crawled']"
   ]
  },
  {
   "cell_type": "code",
   "execution_count": 139,
   "metadata": {
    "collapsed": false
   },
   "outputs": [
    {
     "data": {
      "text/html": [
       "<div>\n",
       "<table border=\"1\" class=\"dataframe\">\n",
       "  <thead>\n",
       "    <tr style=\"text-align: right;\">\n",
       "      <th></th>\n",
       "      <th>ord_in_thread</th>\n",
       "      <th>author</th>\n",
       "      <th>language</th>\n",
       "      <th>site_url</th>\n",
       "      <th>country</th>\n",
       "      <th>domain_rank</th>\n",
       "      <th>replies_count</th>\n",
       "      <th>participants_count</th>\n",
       "      <th>likes</th>\n",
       "      <th>comments</th>\n",
       "      <th>...</th>\n",
       "      <th>40</th>\n",
       "      <th>41</th>\n",
       "      <th>42</th>\n",
       "      <th>43</th>\n",
       "      <th>44</th>\n",
       "      <th>45</th>\n",
       "      <th>46</th>\n",
       "      <th>47</th>\n",
       "      <th>48</th>\n",
       "      <th>49</th>\n",
       "    </tr>\n",
       "  </thead>\n",
       "  <tbody>\n",
       "    <tr>\n",
       "      <th>0</th>\n",
       "      <td>0.0</td>\n",
       "      <td>0</td>\n",
       "      <td>0</td>\n",
       "      <td>0</td>\n",
       "      <td>0</td>\n",
       "      <td>0.0</td>\n",
       "      <td>2.0</td>\n",
       "      <td>1.0</td>\n",
       "      <td>0.0</td>\n",
       "      <td>0.0</td>\n",
       "      <td>...</td>\n",
       "      <td>4</td>\n",
       "      <td>6</td>\n",
       "      <td>3</td>\n",
       "      <td>3</td>\n",
       "      <td>5</td>\n",
       "      <td>4</td>\n",
       "      <td>14</td>\n",
       "      <td>19</td>\n",
       "      <td>3</td>\n",
       "      <td>5</td>\n",
       "    </tr>\n",
       "  </tbody>\n",
       "</table>\n",
       "<p>1 rows × 66 columns</p>\n",
       "</div>"
      ],
      "text/plain": [
       "   ord_in_thread  author  language  site_url  country  domain_rank  \\\n",
       "0            0.0       0         0         0        0          0.0   \n",
       "\n",
       "   replies_count  participants_count  likes  comments ...  40  41  42  43  44  \\\n",
       "0            2.0                 1.0    0.0       0.0 ...   4   6   3   3   5   \n",
       "\n",
       "   45  46  47  48  49  \n",
       "0   4  14  19   3   5  \n",
       "\n",
       "[1 rows x 66 columns]"
      ]
     },
     "execution_count": 139,
     "metadata": {},
     "output_type": "execute_result"
    }
   ],
   "source": [
    "l = ['country','site_url','author','language']\n",
    "le=LabelEncoder()\n",
    "for col in l:\n",
    "    le.fit(test_one[col])\n",
    "    test_one[col]=le.transform(test_one[col])\n",
    "    \n",
    "test_one"
   ]
  },
  {
   "cell_type": "code",
   "execution_count": 166,
   "metadata": {
    "collapsed": false
   },
   "outputs": [
    {
     "data": {
      "text/plain": [
       "array([[ 0.08,  0.56,  0.36]])"
      ]
     },
     "execution_count": 166,
     "metadata": {},
     "output_type": "execute_result"
    }
   ],
   "source": [
    "train_data = pd.read_csv('../train_data.csv')\n",
    "y_train_type = pd.read_csv('../y_train_type.csv')\n",
    "x_train, x_test, y_train, y_test = train_test_split(train_data, y_train_type, test_size=0.05, random_state=42)\n",
    "y_train = y_train['0'].tolist()\n",
    "y_test = y_test['0'].tolist()\n",
    "del x_train['Unnamed: 0']\n",
    "\n",
    "\n",
    "forest = RandomForestClassifier(n_estimators = 50)\n",
    "forest = forest.fit(x_train, y_train)\n",
    "\n",
    "# x_train\n",
    "predictions = np.array([[0.0, 0.0, 0.0]])\n",
    "for i in range(5):\n",
    "    pred_one = forest.predict_proba(test_one)\n",
    "    predictions += pred_one\n",
    "predictions/5"
   ]
  },
  {
   "cell_type": "code",
   "execution_count": null,
   "metadata": {
    "collapsed": true
   },
   "outputs": [],
   "source": []
  }
 ],
 "metadata": {
  "kernelspec": {
   "display_name": "Python 3",
   "language": "python",
   "name": "python3"
  },
  "language_info": {
   "codemirror_mode": {
    "name": "ipython",
    "version": 3
   },
   "file_extension": ".py",
   "mimetype": "text/x-python",
   "name": "python",
   "nbconvert_exporter": "python",
   "pygments_lexer": "ipython3",
   "version": "3.4.5"
  }
 },
 "nbformat": 4,
 "nbformat_minor": 0
}
