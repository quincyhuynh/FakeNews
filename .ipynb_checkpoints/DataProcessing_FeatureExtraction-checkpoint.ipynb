{
 "cells": [
  {
   "cell_type": "code",
   "execution_count": 1,
   "metadata": {
    "collapsed": true
   },
   "outputs": [],
   "source": [
    "#importing libraries\n",
    "import pandas as pd\n",
    "import numpy as np\n",
    "import nltk\n",
    "from nltk.tokenize import sent_tokenize\n",
    "import re\n",
    "from nltk.stem import PorterStemmer\n",
    "from nltk.tag import pos_tag\n",
    "from nltk.corpus import stopwords\n",
    "from nltk.corpus import wordnet\n",
    "from nltk.stem import WordNetLemmatizer\n",
    "from sklearn.feature_extraction.text import CountVectorizer\n",
    "from sklearn import linear_model\n",
    "from sklearn.ensemble import RandomForestClassifier\n",
    "from sklearn.preprocessing import LabelEncoder\n",
    "from sklearn import metrics"
   ]
  },
  {
   "cell_type": "code",
   "execution_count": 2,
   "metadata": {
    "collapsed": false
   },
   "outputs": [],
   "source": [
    "def title_cleaner(title):\n",
    "    title = re.sub('[^a-zA-Z]',' ', title)\n",
    "    title = title.lower()\n",
    "    title = nltk.word_tokenize(title) \n",
    "    eng_stopwords = set(stopwords.words(\"english\"))\n",
    "    title = [w for w in title if not w in eng_stopwords]\n",
    "    title = ' '.join([word for word in title])\n",
    "    return(title)\n",
    "\n",
    "wnl = WordNetLemmatizer()\n",
    "def get_wordnet_pos(treebank_tag):\n",
    "    '''Treebank to wordnet POS tag'''\n",
    "    if treebank_tag.startswith('J'):\n",
    "        return wordnet.ADJ\n",
    "    elif treebank_tag.startswith('V'):\n",
    "        return wordnet.VERB\n",
    "    elif treebank_tag.startswith('N'):\n",
    "        return wordnet.NOUN\n",
    "    elif treebank_tag.startswith('R'):\n",
    "        return wordnet.ADV\n",
    "    else:\n",
    "        return 'n' #basecase POS"
   ]
  },
  {
   "cell_type": "code",
   "execution_count": 3,
   "metadata": {
    "collapsed": false
   },
   "outputs": [],
   "source": [
    "#reading the file\n",
    "data = pd.read_csv('fake.csv')\n",
    "\n",
    "del data['uuid']\n",
    "data = data.dropna().reset_index()\n",
    "del data['index']"
   ]
  },
  {
   "cell_type": "code",
   "execution_count": 4,
   "metadata": {
    "collapsed": false
   },
   "outputs": [
    {
     "name": "stdout",
     "output_type": "stream",
     "text": [
      "Number of not spam news:  4656\n",
      "Number of spam news: : 46\n",
      "Percentage of spam vs ham: 0.9879725085910653\n"
     ]
    }
   ],
   "source": [
    "positive = data[data['spam_score'] < 0.5]\n",
    "negative = data[data['spam_score'] >= 0.5]\n",
    "no_of_positive = len(positive)\n",
    "no_of_negative = len(negative)\n",
    "print (\"Number of not spam news: \", no_of_positive)\n",
    "print (\"Number of spam news: :\", no_of_negative)\n",
    "print (\"Percentage of spam vs ham:\" ,no_of_negative*100/no_of_positive)"
   ]
  },
  {
   "cell_type": "code",
   "execution_count": 5,
   "metadata": {
    "collapsed": false
   },
   "outputs": [
    {
     "name": "stdout",
     "output_type": "stream",
     "text": [
      "{'fake', 'hate', 'conspiracy', 'state', 'junksci', 'bias', 'bs'}\n"
     ]
    }
   ],
   "source": [
    "types = set(data['type'].tolist())\n",
    "print(types)\n",
    "result_spam = [0 if val < 0.5 else 1 for val in data['spam_score']]\n",
    "result_type = [2 if val in ['bs', 'fake'] else 1 if val in ['bias', 'hate'] else 0 for val in data['type']]\n",
    "del data['type']"
   ]
  },
  {
   "cell_type": "code",
   "execution_count": 6,
   "metadata": {
    "collapsed": false
   },
   "outputs": [
    {
     "name": "stdout",
     "output_type": "stream",
     "text": [
      "The average length of all the reviews:  277.0\n"
     ]
    }
   ],
   "source": [
    "len_of_reviews = np.array([])\n",
    "for val in data['title']:\n",
    "    temp = len(val)\n",
    "    len_of_reviews = np.append(len_of_reviews,temp)\n",
    "print (\"The average length of all the reviews: \",len_of_reviews.max())"
   ]
  },
  {
   "cell_type": "code",
   "execution_count": 7,
   "metadata": {
    "collapsed": false
   },
   "outputs": [
    {
     "name": "stdout",
     "output_type": "stream",
     "text": [
      "Done with 500 title for title_clean_original\n",
      "Done with 1000 title for title_clean_original\n",
      "Done with 1500 title for title_clean_original\n",
      "Done with 2000 title for title_clean_original\n",
      "Done with 2500 title for title_clean_original\n",
      "Done with 3000 title for title_clean_original\n",
      "Done with 3500 title for title_clean_original\n",
      "Done with 4000 title for title_clean_original\n",
      "Done with 4500 title for title_clean_original\n",
      "Done with 500 title for title_clean_original\n",
      "Done with 1000 title for title_clean_original\n",
      "Done with 1500 title for title_clean_original\n",
      "Done with 2000 title for title_clean_original\n",
      "Done with 2500 title for title_clean_original\n",
      "Done with 3000 title for title_clean_original\n",
      "Done with 3500 title for title_clean_original\n",
      "Done with 4000 title for title_clean_original\n",
      "Done with 4500 title for title_clean_original\n"
     ]
    }
   ],
   "source": [
    "num_title = len(data['title'])\n",
    "title_clean_original = []\n",
    "for i in range(0,num_title - 1):\n",
    "    if( (i+1)%500 == 0 ):\n",
    "         # print progress\n",
    "        print(\"Done with %d title for title_clean_original\" %(i+1)) \n",
    "    title_clean_original.append(title_cleaner(data['title'][i]))\n",
    "    \n",
    "num_text = len(data['text'])\n",
    "text_clean_original = []\n",
    "for i in range(0,num_text - 1):\n",
    "    if( (i+1)%500 == 0 ):\n",
    "         # print progress\n",
    "        print(\"Done with %d title for title_clean_original\" %(i+1)) \n",
    "    text_clean_original.append(title_cleaner(data['text'][i]))\n",
    "        "
   ]
  },
  {
   "cell_type": "code",
   "execution_count": 8,
   "metadata": {
    "collapsed": false
   },
   "outputs": [
    {
     "name": "stdout",
     "output_type": "stream",
     "text": [
      "Done with 500 title for title_clean_wnl\n",
      "Done with 1000 title for title_clean_wnl\n",
      "Done with 1500 title for title_clean_wnl\n",
      "Done with 2000 title for title_clean_wnl\n",
      "Done with 2500 title for title_clean_wnl\n",
      "Done with 3000 title for title_clean_wnl\n",
      "Done with 3500 title for title_clean_wnl\n",
      "Done with 4000 title for title_clean_wnl\n",
      "Done with 4500 title for title_clean_wnl\n",
      "Done with 500 title for text_clean_wnl\n",
      "Done with 1000 title for text_clean_wnl\n",
      "Done with 1500 title for text_clean_wnl\n",
      "Done with 2000 title for text_clean_wnl\n",
      "Done with 2500 title for text_clean_wnl\n",
      "Done with 3000 title for text_clean_wnl\n",
      "Done with 3500 title for text_clean_wnl\n",
      "Done with 4000 title for text_clean_wnl\n",
      "Done with 4500 title for text_clean_wnl\n"
     ]
    }
   ],
   "source": [
    "title_clean_wnl = []\n",
    "for i, val in enumerate(title_clean_original):\n",
    "    if( (i+1)%500 == 0 ):\n",
    "         # print progress\n",
    "        print(\"Done with %d title for title_clean_wnl\" %(i+1)) \n",
    "    l = pos_tag(val.split())\n",
    "    temp = ' '.join([wnl.lemmatize(w,pos=get_wordnet_pos(t)) for w,t in l])\n",
    "    title_clean_wnl.append(temp)\n",
    "    \n",
    "text_clean_wnl = []\n",
    "for i, val in enumerate(text_clean_original):\n",
    "    if( (i+1)%500 == 0 ):\n",
    "         # print progress\n",
    "        print(\"Done with %d title for text_clean_wnl\" %(i+1)) \n",
    "    l = pos_tag(val.split())\n",
    "    temp = ' '.join([wnl.lemmatize(w,pos=get_wordnet_pos(t)) for w,t in l])\n",
    "    text_clean_wnl.append(temp)"
   ]
  },
  {
   "cell_type": "code",
   "execution_count": 9,
   "metadata": {
    "collapsed": false
   },
   "outputs": [],
   "source": [
    "vectorizer = CountVectorizer(analyzer = \"word\",   \\\n",
    "                                 tokenizer = None,    \\\n",
    "                                 preprocessor = None, \\\n",
    "                                 stop_words = None,   \\\n",
    "                                 max_features = 277) "
   ]
  },
  {
   "cell_type": "code",
   "execution_count": 27,
   "metadata": {
    "collapsed": false
   },
   "outputs": [],
   "source": [
    "df = pd.DataFrame(vectorizer.fit_transform(title_clean_wnl).toarray())\n",
    "df1 = pd.DataFrame(vectorizer.fit_transform(text_clean_wnl).toarray())\n",
    "train_data = pd.concat([data], axis = 1)\n",
    "train_data = train_data.interpolate()"
   ]
  },
  {
   "cell_type": "code",
   "execution_count": 28,
   "metadata": {
    "collapsed": false
   },
   "outputs": [],
   "source": [
    "# clean trained dataset\n",
    "del train_data['title']\n",
    "del train_data['thread_title']\n",
    "del train_data['text']\n",
    "del train_data['spam_score']\n",
    "del train_data['main_img_url']\n",
    "del train_data['published']\n",
    "del train_data['crawled']"
   ]
  },
  {
   "cell_type": "code",
   "execution_count": 29,
   "metadata": {
    "collapsed": false
   },
   "outputs": [],
   "source": [
    "l = ['country','site_url','author','language']\n",
    "le=LabelEncoder()\n",
    "for col in l:\n",
    "    le.fit(train_data[col])\n",
    "    train_data[col]=le.transform(train_data[col])"
   ]
  },
  {
   "cell_type": "code",
   "execution_count": 30,
   "metadata": {
    "collapsed": false
   },
   "outputs": [],
   "source": [
    "# create y_train data for spam and result\n",
    "y_train_spam = pd.DataFrame(result_spam)\n",
    "y_train_type = pd.DataFrame(result_type)"
   ]
  },
  {
   "cell_type": "code",
   "execution_count": 31,
   "metadata": {
    "collapsed": false
   },
   "outputs": [],
   "source": [
    "# write trained_data to csv for quick training later\n",
    "train_data.to_csv('train_data.csv')\n",
    "y_train_spam.to_csv('y_train_spam.csv')\n",
    "y_train_type.to_csv('y_train_type.csv')"
   ]
  },
  {
   "cell_type": "code",
   "execution_count": 35,
   "metadata": {
    "collapsed": true
   },
   "outputs": [],
   "source": [
    "# create 50/50  random test/train split (can change test size ratio) for cross validation\n",
    "from sklearn.model_selection import train_test_split\n",
    "x_train, x_test, y_train, y_test = train_test_split(train_data, y_train_type, test_size=0.50, random_state=42)\n",
    "y_train = y_train[0].tolist()\n",
    "y_test = y_test[0].tolist()"
   ]
  },
  {
   "cell_type": "code",
   "execution_count": 37,
   "metadata": {
    "collapsed": false
   },
   "outputs": [
    {
     "data": {
      "text/plain": [
       "0.93449595916631223"
      ]
     },
     "execution_count": 37,
     "metadata": {},
     "output_type": "execute_result"
    }
   ],
   "source": [
    "forest = RandomForestClassifier(n_estimators = 40) \n",
    "forest = forest.fit(x_train, y_train)\n",
    "x_test_pred = forest.predict(x_test)\n",
    "accuracy  = metrics.accuracy_score(y_test,x_test_pred)\n",
    "accuracy"
   ]
  },
  {
   "cell_type": "code",
   "execution_count": 88,
   "metadata": {
    "collapsed": false
   },
   "outputs": [
    {
     "data": {
      "text/plain": [
       "0.87111867290514677"
      ]
     },
     "execution_count": 88,
     "metadata": {},
     "output_type": "execute_result"
    }
   ],
   "source": [
    "from sklearn import linear_model, datasets\n",
    "logreg = linear_model.LogisticRegression(C=1e5)\n",
    "logreg = logreg.fit(x_train, y_train)\n",
    "\n",
    "x_test_pred = logreg.predict(x_test)\n",
    "accuracy  = metrics.accuracy_score(y_test,x_test_pred)\n",
    "accuracy"
   ]
  }
 ],
 "metadata": {
  "anaconda-cloud": {},
  "kernelspec": {
   "display_name": "Python 3",
   "language": "python",
   "name": "python3"
  },
  "language_info": {
   "codemirror_mode": {
    "name": "ipython",
    "version": 3
   },
   "file_extension": ".py",
   "mimetype": "text/x-python",
   "name": "python",
   "nbconvert_exporter": "python",
   "pygments_lexer": "ipython3",
   "version": "3.4.5"
  }
 },
 "nbformat": 4,
 "nbformat_minor": 1
}
